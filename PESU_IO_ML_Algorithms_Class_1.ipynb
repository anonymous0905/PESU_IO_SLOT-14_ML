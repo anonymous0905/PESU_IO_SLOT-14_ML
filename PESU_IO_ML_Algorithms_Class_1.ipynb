{
  "nbformat": 4,
  "nbformat_minor": 0,
  "metadata": {
    "colab": {
      "provenance": [],
      "collapsed_sections": [],
      "name": "PESU IO ML Algorithms - Class - 1.ipynb",
      "include_colab_link": true
    },
    "kernelspec": {
      "name": "python3",
      "display_name": "Python 3"
    },
    "language_info": {
      "name": "python"
    },
    "accelerator": "TPU",
    "gpuClass": "standard"
  },
  "cells": [
    {
      "cell_type": "markdown",
      "metadata": {
        "id": "view-in-github",
        "colab_type": "text"
      },
      "source": [
        "<a href=\"https://colab.research.google.com/github/anonymous0905/PESU_IO_ML/blob/main/PESU_IO_ML_Algorithms_Class_1.ipynb\" target=\"_parent\"><img src=\"https://colab.research.google.com/assets/colab-badge.svg\" alt=\"Open In Colab\"/></a>"
      ]
    },
    {
      "cell_type": "markdown",
      "source": [
        "Welcome to the first class of undersanding ML algorithms\n",
        "Today you will get yourselves familiar with python and essentially get to dive into the basics of some libraries that you will be learning about throughout this course."
      ],
      "metadata": {
        "id": "uxWHk4LP14P2"
      }
    },
    {
      "cell_type": "markdown",
      "source": [
        "The Most basic Hello World program:"
      ],
      "metadata": {
        "id": "4TUobwcn2cvz"
      }
    },
    {
      "cell_type": "code",
      "source": [
        "print(\"Hello World!\")"
      ],
      "metadata": {
        "colab": {
          "base_uri": "https://localhost:8080/"
        },
        "id": "hE7C8tL22lmD",
        "outputId": "bdd5213d-2f73-4642-8f74-cd3b445e2560"
      },
      "execution_count": null,
      "outputs": [
        {
          "output_type": "stream",
          "name": "stdout",
          "text": [
            "Hello World!\n"
          ]
        }
      ]
    },
    {
      "cell_type": "markdown",
      "source": [
        "Concept of variables and data types :\n",
        "EXERCISE: A travel company wants to fly a plane to the Bahamas. Flying the plane costs 5000 dollars. So far, 29 people have signed up for the trip. If the company charges 200 dollars per ticket, what is the profit made by the company? Create variables for each numeric quantity and use appropriate arithmetic operations."
      ],
      "metadata": {
        "id": "ovKfTdej2B9R"
      }
    },
    {
      "cell_type": "code",
      "source": [
        "cost = 5000\n",
        "num_people = 29\n",
        "price = 200\n",
        "net_revenue = num_people*price\n",
        "profit = net_revenue - cost\n",
        "print(profit)"
      ],
      "metadata": {
        "id": "vxkFv26E23qA",
        "colab": {
          "base_uri": "https://localhost:8080/"
        },
        "outputId": "9779a486-0a99-47f1-b22b-41da58e5bda7"
      },
      "execution_count": null,
      "outputs": [
        {
          "output_type": "stream",
          "name": "stdout",
          "text": [
            "800\n"
          ]
        }
      ]
    },
    {
      "cell_type": "markdown",
      "source": [
        "Concept of a conditional statement or a set of conditional statements and cases :\n",
        "Write a code snippet which evaluates whether a number is a multiple of just 2 , just 3 , or both 2 and 3 (multiple of 6)"
      ],
      "metadata": {
        "id": "xjAB_LDJ24I3"
      }
    },
    {
      "cell_type": "code",
      "source": [
        "#use if-else statements and print out the required information:\n",
        "num= 12\n",
        "if num%2==0 and num%3==0:\n",
        "  print(\"Multiple of 6\")\n",
        "elif num%2==0:\n",
        "  print(\"Multiple of 2\")\n",
        "elif num%3==0:\n",
        "  print(\"Multiple of 3\")\n",
        "else:\n",
        "  print(\"Not a multiple\")\n",
        "#complete this area"
      ],
      "metadata": {
        "id": "m_ZVPJuN3AXP",
        "colab": {
          "base_uri": "https://localhost:8080/"
        },
        "outputId": "685d64ca-1db8-4598-97fa-531d4b0bc37c"
      },
      "execution_count": null,
      "outputs": [
        {
          "output_type": "stream",
          "name": "stdout",
          "text": [
            "Multiple of 6\n"
          ]
        }
      ]
    },
    {
      "cell_type": "markdown",
      "source": [
        "Concept of loops:\n",
        "Write a program to count the number of vowels in the given string:\n",
        "ANTIESTABLISHMENTARIANISTICALLY"
      ],
      "metadata": {
        "id": "O2bGzmzO3s9L"
      }
    },
    {
      "cell_type": "code",
      "source": [
        "str1 = 'ANTIESTABLISHMENTARIANISTICALLY'\n",
        "count = 0\n",
        "for i in str1:\n",
        "  if(i=='A' or i=='E' or i=='I' or i=='O' or i=='U'):\n",
        "    count+=1\n",
        "print(count)"
      ],
      "metadata": {
        "id": "4g7drYH83vYE",
        "colab": {
          "base_uri": "https://localhost:8080/"
        },
        "outputId": "91bad07c-a917-4545-e9cf-419cc8da492b"
      },
      "execution_count": null,
      "outputs": [
        {
          "output_type": "stream",
          "name": "stdout",
          "text": [
            "12\n"
          ]
        }
      ]
    },
    {
      "cell_type": "markdown",
      "source": [
        "learning what each data- structure in python does and using all their functions:\n"
      ],
      "metadata": {
        "id": "e4Vc9Nw84bD5"
      }
    },
    {
      "cell_type": "markdown",
      "source": [
        "LISTS AND ITS FUNCTIONALITY:"
      ],
      "metadata": {
        "id": "OaEbJ_LY4joh"
      }
    },
    {
      "cell_type": "code",
      "source": [
        "#Define a random list of fruits \n",
        "lst1 = ['apple', 'mango', 'orange']\n",
        "#iterate over the list and find the name of the fruit which has the smallest word length\n",
        "len1 = len(lst1[0])\n",
        "for i in lst1:\n",
        "  if(len(i)<len1):\n",
        "    len1 = len(i)\n",
        "\n",
        "print(len1)\n",
        "print(lst1)\n",
        "# append a vegetable to your existing list\n",
        "lst1.append('pears')\n",
        "\n",
        "# find the size of your list\n",
        "print(len(lst1))\n",
        "print(lst1)\n",
        "# add enough fruits such that your list size if greater that 4'\n",
        "lst1.append('watermelon')\n",
        "print(lst1)\n",
        "# delete the 2nd fruit(1st index) from your list:\n",
        "del lst1[1]\n",
        "print(lst1)\n",
        "\n",
        "# add your name in the 4th position of the list (3rd index)\n",
        "lst1.insert(3,'Shashank')\n",
        "print(lst1)\n",
        "\n",
        "#have fun and try out any 4-5 pre-defined fucntions on a list as seen in the python list documentation\n",
        "\n"
      ],
      "metadata": {
        "id": "rjle8Jat4n7b",
        "colab": {
          "base_uri": "https://localhost:8080/"
        },
        "outputId": "7326b798-9c19-46ec-d82c-860b2eb35289"
      },
      "execution_count": null,
      "outputs": [
        {
          "output_type": "stream",
          "name": "stdout",
          "text": [
            "5\n",
            "['apple', 'mango', 'orange']\n",
            "4\n",
            "['apple', 'mango', 'orange', 'pears']\n",
            "['apple', 'mango', 'orange', 'pears', 'watermelon']\n",
            "['apple', 'orange', 'pears', 'watermelon']\n",
            "['apple', 'orange', 'pears', 'Shashank', 'watermelon']\n"
          ]
        }
      ]
    },
    {
      "cell_type": "markdown",
      "source": [
        "TUPLES AND ITS FUNCTIONALITY:"
      ],
      "metadata": {
        "id": "IAYs58gx4oWB"
      }
    },
    {
      "cell_type": "code",
      "source": [
        "#create abd tuple and print its elements \n",
        "lst2 = tuple(['a',1,'d',4])\n",
        "print(lst2)\n",
        "\n",
        "#print the type of each value in the tuple\n",
        "for i in lst2:\n",
        "  print(type(i))\n",
        "#try to change the seconf value in your tuple to \"Caterpillar\"\n",
        "#tuples are immutable\n",
        "# print the last element of the tuple without using the length of the tuple\n",
        "print(lst2[-1])\n",
        "# slicing is an IMPORTANT concept in python especially since you will all be working on huge amounts of data so try different options \n",
        "# print(a[-2:]), print([:3]) etc...\n",
        "\n",
        "#sort vs sorted function: find the difference in the form of a program:\n"
      ],
      "metadata": {
        "id": "KquFBYey4qzu",
        "colab": {
          "base_uri": "https://localhost:8080/"
        },
        "outputId": "4d56b007-d2c8-4ecc-ce3f-23c140e7fbcb"
      },
      "execution_count": null,
      "outputs": [
        {
          "output_type": "stream",
          "name": "stdout",
          "text": [
            "('a', 1, 'd', 4)\n",
            "<class 'str'>\n",
            "<class 'int'>\n",
            "<class 'str'>\n",
            "<class 'int'>\n",
            "4\n"
          ]
        }
      ]
    },
    {
      "cell_type": "markdown",
      "source": [
        "SETS AND ITS FUNCTIONALITY:"
      ],
      "metadata": {
        "id": "P3xn-gIL4rS6"
      }
    },
    {
      "cell_type": "code",
      "source": [
        "#explore the properties of set and after doing that solve this little puzzle below:\n",
        "set5 = set([1,1,1,2,3,4,5,6,5,4,5,6,3,2,2,2,1,1,0])\n",
        "print(set5)\n"
      ],
      "metadata": {
        "id": "RlURFwFx4viZ",
        "outputId": "3460562b-f414-4489-a18c-5b14d8f8b1c9",
        "colab": {
          "base_uri": "https://localhost:8080/"
        }
      },
      "execution_count": null,
      "outputs": [
        {
          "output_type": "stream",
          "name": "stdout",
          "text": [
            "{0, 1, 2, 3, 4, 5, 6}\n"
          ]
        }
      ]
    },
    {
      "cell_type": "markdown",
      "source": [
        "Ana is a data-scientist  who just started her career in Meta, however she needs to find the existance of new words on facebook hashtags and find the numbre of unique such words which need to be added to the existing facebook hastag library:\n",
        "\n",
        "facebook hastag library : [\"ootd\", \"lol\", \"ffs\", \"asap\"]\n",
        "daily facebook hastag words string: \" rofl lol macha bob ootd asap fun sweet16 ffs lol asap ootd ffs macha rofl bob ootd fun candid anime happyhours bob fun happyhours\"\n",
        "You will need to indivitually extract the words from the string and then solve this problem ?? How are you going to do that ? \n",
        "# Reading documentation should become a habit ....."
      ],
      "metadata": {
        "id": "na8tI4EH70Lt"
      }
    },
    {
      "cell_type": "code",
      "source": [
        "#solve the above problem and help ana do her work she may even hire you as her assistant!!!\n",
        "str1 = \"rofl lol macha bob ootd asap fun sweet16 ffs lol asap ootd ffs macha rofl bob ootd fun candid anime happyhours bob fun happyhours\"\n",
        "lst2 = str1.split()\n",
        "lst3 = set(lst2)\n",
        "print(lst3)"
      ],
      "metadata": {
        "id": "0ww7Zs5BBiBQ",
        "colab": {
          "base_uri": "https://localhost:8080/"
        },
        "outputId": "e6ceab30-2fbb-4b79-a48f-60a2392da9a7"
      },
      "execution_count": null,
      "outputs": [
        {
          "output_type": "stream",
          "name": "stdout",
          "text": [
            "{'anime', 'happyhours', 'bob', 'macha', 'candid', 'ootd', 'fun', 'sweet16', 'asap', 'lol', 'rofl', 'ffs'}\n"
          ]
        }
      ]
    },
    {
      "cell_type": "markdown",
      "source": [
        "DICTIONARIES AND ITS FUNCTIONALITY:"
      ],
      "metadata": {
        "id": "kMmUm2qI4wBP"
      }
    },
    {
      "cell_type": "code",
      "source": [
        "#explore the usage of dictionaries because it is literally so useful when in comes data science\n",
        "#a lot of the data you will be using will be as key-value pairs \n",
        "dict1 = {\"A\":5, \"B\":4, \"C\":8}\n",
        "print(dict1)"
      ],
      "metadata": {
        "id": "oR-54dFT4zYN",
        "outputId": "d8fa9ebc-9d31-4440-eeb8-559a13dc9911",
        "colab": {
          "base_uri": "https://localhost:8080/"
        }
      },
      "execution_count": null,
      "outputs": [
        {
          "output_type": "stream",
          "name": "stdout",
          "text": [
            "{'A': 5, 'B': 4, 'C': 8}\n"
          ]
        }
      ]
    },
    {
      "cell_type": "markdown",
      "source": [
        "Given an unsorted list of some elements(may or may not be integers), Find the frequency of each distinct element in the list using a dictionary. \n",
        "Input : [1, 1, 1, 5, 5, 3, 1, 3, 3, 1,\n",
        "                  4, 4, 4, 2, 2, 2, 2]\n",
        "\n",
        "Output : 1 : 5\n",
        "         2 : 4\n",
        "         3 : 3\n",
        "         4 : 3\n",
        "         5 : 2\n",
        "\n"
      ],
      "metadata": {
        "id": "V-iZrEMlE30W"
      }
    },
    {
      "cell_type": "code",
      "source": [
        "# Python program to count the frequency of\n",
        "# elements in a list using a dictionary\n",
        " \n",
        "def CountFrequency(my_list):\n",
        " \n",
        "    # Creating an empty dictionary\n",
        "    freq = {}\n",
        "    for i in my_list:\n",
        "      if(i in freq):\n",
        "        freq[i] +=1\n",
        "      else:\n",
        "        freq[i] = 1\n",
        "    \n",
        "    print(freq)\n",
        "    \n",
        "# Driver function\n",
        "if __name__ == \"__main__\":\n",
        "    my_list =[1, 1, 1, 5, 5, 3, 1, 3, 3, 1, 4, 4, 4, 2, 2, 2, 2]\n",
        " \n",
        "    CountFrequency(my_list)"
      ],
      "metadata": {
        "id": "dPP6aUJaFbbv",
        "colab": {
          "base_uri": "https://localhost:8080/"
        },
        "outputId": "9645d81a-a63d-4eec-f1c9-b476ef86c137"
      },
      "execution_count": null,
      "outputs": [
        {
          "output_type": "stream",
          "name": "stdout",
          "text": [
            "{1: 5, 5: 2, 3: 3, 4: 3, 2: 4}\n"
          ]
        }
      ]
    },
    {
      "cell_type": "markdown",
      "source": [
        "Now that you have finished this basics exercise in python We shall now play in teams and winning Team doesn't get homework today !"
      ],
      "metadata": {
        "id": "7AoTxECAFvfc"
      }
    }
  ]
}